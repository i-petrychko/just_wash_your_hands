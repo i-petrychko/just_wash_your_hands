{
 "cells": [
  {
   "cell_type": "code",
   "execution_count": 1,
   "outputs": [],
   "source": [
    "import numpy as np\n",
    "from scipy.stats import truncnorm\n",
    "\n",
    "def sample_truncated_normal(min_val: float, max_val: float, mean: float, std_dev: float, size: int = 1):\n",
    "    \"\"\"\n",
    "    Sample values from a truncated normal distribution.\n",
    "    \n",
    "    Args:\n",
    "        min_val (float): The minimum value of the distribution.\n",
    "        max_val (float): The maximum value of the distribution.\n",
    "        mean (float): The mean of the normal distribution.\n",
    "        std_dev (float): The standard deviation of the normal distribution.\n",
    "        size (int): Number of samples to generate.\n",
    "        \n",
    "    Returns:\n",
    "        np.ndarray: Array of sampled values.\n",
    "    \"\"\"\n",
    "    # Compute the lower and upper bounds in standard normal units\n",
    "    lower_bound = (min_val - mean) / std_dev\n",
    "    upper_bound = (max_val - mean) / std_dev\n",
    "\n",
    "    # Generate samples from the truncated normal distribution\n",
    "    samples = truncnorm.rvs(lower_bound, upper_bound, loc=mean, scale=std_dev, size=size)\n",
    "    return samples\n"
   ],
   "metadata": {
    "collapsed": false,
    "ExecuteTime": {
     "end_time": "2025-01-26T16:00:24.571486Z",
     "start_time": "2025-01-26T16:00:23.835631Z"
    }
   },
   "id": "ff445321a87d2ad9"
  },
  {
   "cell_type": "code",
   "execution_count": 7,
   "outputs": [
    {
     "name": "stdout",
     "output_type": "stream",
     "text": [
      "[99.63798987]\n"
     ]
    }
   ],
   "source": [
    "min_val = 80\n",
    "max_val = 120\n",
    "mean = 100\n",
    "std_dev = 2\n",
    "num_samples = 1\n",
    "\n",
    "# Generate samples\n",
    "samples = sample_truncated_normal(min_val, max_val, mean, std_dev, size=num_samples)\n",
    "print(samples)"
   ],
   "metadata": {
    "collapsed": false,
    "ExecuteTime": {
     "end_time": "2025-01-26T16:01:58.205062Z",
     "start_time": "2025-01-26T16:01:58.200914Z"
    }
   },
   "id": "fd412cb5cdeecac4"
  },
  {
   "cell_type": "code",
   "execution_count": 6,
   "id": "initial_id",
   "metadata": {
    "collapsed": true,
    "ExecuteTime": {
     "end_time": "2025-01-26T16:01:28.019173Z",
     "start_time": "2025-01-26T16:01:27.941569Z"
    }
   },
   "outputs": [
    {
     "name": "stdout",
     "output_type": "stream",
     "text": [
      "[ 99.08110301  96.75709227  97.80744216 103.79156176 104.33768109\n",
      " 102.85328345 101.61006579 101.74968581 100.87260234 100.80185852]\n"
     ]
    },
    {
     "data": {
      "text/plain": "<Figure size 640x480 with 1 Axes>",
      "image/png": "[encoded data removed]"
     },
     "metadata": {},
     "output_type": "display_data"
    }
   ],
   "source": [
    "# Define parameters\n",
    "min_val = 80\n",
    "max_val = 120\n",
    "mean = 100\n",
    "std_dev = 2\n",
    "num_samples = 1\n",
    "\n",
    "# Generate samples\n",
    "samples = sample_truncated_normal(min_val, max_val, mean, std_dev, size=num_samples)\n",
    "\n",
    "# Check the output\n",
    "print(samples[:10])  # First 10 samples\n",
    "\n",
    "# Optional: Visualize the samples\n",
    "import matplotlib.pyplot as plt\n",
    "plt.hist(samples, bins=30, density=True, alpha=0.6, color='g')\n",
    "plt.title(\"Truncated Normal Distribution\")\n",
    "plt.xlabel(\"Value\")\n",
    "plt.ylabel(\"Density\")\n",
    "plt.show()\n"
   ]
  },
  {
   "cell_type": "code",
   "execution_count": null,
   "outputs": [],
   "source": [],
   "metadata": {
    "collapsed": false
   },
   "id": "afde40cf55df8f52"
  }
 ],
 "metadata": {
  "kernelspec": {
   "display_name": "Python 3",
   "language": "python",
   "name": "python3"
  },
  "language_info": {
   "codemirror_mode": {
    "name": "ipython",
    "version": 2
   },
   "file_extension": ".py",
   "mimetype": "text/x-python",
   "name": "python",
   "nbconvert_exporter": "python",
   "pygments_lexer": "ipython2",
   "version": "2.7.6"
  }
 },
 "nbformat": 4,
 "nbformat_minor": 5
}
